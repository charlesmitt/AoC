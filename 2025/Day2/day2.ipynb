{
 "cells": [
  {
   "cell_type": "code",
   "execution_count": 167,
   "metadata": {},
   "outputs": [],
   "source": [
    "import csv\n",
    "import copy \n",
    "with open('source.csv', 'r') as read_obj: # read csv file as a list of lists\n",
    "  csv_reader = csv.reader(read_obj) # pass the file object to reader() to get the reader object\n",
    "  list_of_rows = list(csv_reader) # Pass reader object to list() to get a list of lists\n"
   ]
  },
  {
   "cell_type": "code",
   "execution_count": 168,
   "metadata": {},
   "outputs": [],
   "source": [
    "lists = []\n",
    "\n",
    "for l in list_of_rows:\n",
    "    lists.append(l[0].split(\" \"))\n",
    "\n",
    "for k,i in enumerate(lists):\n",
    "   \n",
    "    for kk,j in enumerate(i):\n",
    "        lists[k][kk] = int(j)"
   ]
  },
  {
   "cell_type": "markdown",
   "metadata": {},
   "source": [
    "PARTIE 1 "
   ]
  },
  {
   "cell_type": "code",
   "execution_count": 169,
   "metadata": {},
   "outputs": [
    {
     "name": "stdout",
     "output_type": "stream",
     "text": [
      "585\n"
     ]
    }
   ],
   "source": [
    "smallList= [[7, 6, 4, 2, 1],\n",
    "            [1, 2, 7, 8, 9],\n",
    "            [9, 7, 6, 2, 1],\n",
    "            [1, 3, 2, 4, 5],\n",
    "            [8, 6, 4, 4, 1],\n",
    "            [1, 3, 6, 7, 9]]\n",
    "#smallListSorted = copy.deepcopy(smallList)\n",
    "\n",
    "safeReports = 0\n",
    "for k,l in enumerate(lists): # ON PREND CHAQUE LIGNE\n",
    "    safe = True\n",
    "    size = len(l)\n",
    "    sortedList = l.copy()\n",
    "    \n",
    "    for i in range(1,size): # ON COMPARE LES ELEMENTS DE LA LIGNE ENTRE EUX\n",
    "        \n",
    "        a = l[i-1] \n",
    "        b = l[i]\n",
    "        if(b==a):\n",
    "            safe=False\n",
    "        elif abs(b-a)>3:\n",
    "            safe=False\n",
    "        \n",
    "        \n",
    "        if b > a :\n",
    "            sortedList.sort()\n",
    "        elif a>b:\n",
    "            sortedList.sort(reverse=True)\n",
    "\n",
    "    if sortedList != l:\n",
    "        safe=False\n",
    "\n",
    "    if(safe): # SI ON A PASSE TOUS LES TESTS LE REPORT EST SAFE\n",
    "        safeReports+=1\n",
    "print(safeReports)"
   ]
  },
  {
   "cell_type": "markdown",
   "metadata": {},
   "source": [
    "PARTIE 2"
   ]
  },
  {
   "cell_type": "code",
   "execution_count": 183,
   "metadata": {},
   "outputs": [
    {
     "name": "stdout",
     "output_type": "stream",
     "text": [
      "626\n"
     ]
    }
   ],
   "source": [
    "smallList= [[7, 6, 4, 2, 1],\n",
    "            [1, 2, 7, 8, 9],\n",
    "            [9, 7, 6, 2, 1],\n",
    "            [1, 3, 2, 4, 5],\n",
    "            [8, 6, 4, 4, 1],\n",
    "            [1, 3, 6, 7, 9]]\n",
    "#smallListSorted = copy.deepcopy(smallList)\n",
    "\n",
    "safeReports = 0\n",
    "for k,l in enumerate(lists): # ON PREND CHAQUE LIGNE\n",
    "    safe = True\n",
    "    size = len(l)\n",
    "    sortedList = l.copy()\n",
    "\n",
    "    # PREMIER ROUND POUR CHAQUE REPORT\n",
    "\n",
    "    for i in range(1,size): # ON COMPARE LES ELEMENTS DE LA LIGNE ENTRE EUX\n",
    "        \n",
    "        a = l[i-1] \n",
    "        b = l[i]\n",
    "        if(b==a):\n",
    "            safe=False\n",
    "        elif abs(b-a)>3:\n",
    "            safe=False\n",
    "        \n",
    "        \n",
    "        if b > a :\n",
    "            sortedList.sort()\n",
    "        elif a>b:\n",
    "            sortedList.sort(reverse=True)\n",
    "\n",
    "    if sortedList != l:\n",
    "        safe=False\n",
    "\n",
    "    if(safe): # SI ON A PASSE TOUS LES TESTS LE REPORT EST SAFE\n",
    "        safeReports+=1\n",
    "    else:\n",
    "    ##############################\n",
    "    # ON ESSAIE DONC EN ENLEVANT DES ELEMENTS DU REPORT\n",
    "\n",
    "        for pos in range(size):\n",
    "            safe=True\n",
    "            l2= l.copy()\n",
    "            l2.pop(pos) # ON ENLEVE TOUR A TOUR UN ELEMENT DE LA LISTE ET ON REFAIT TOUT LE TEST\n",
    "            sortedList = l2.copy()\n",
    "            for i2 in range(1,len(l2)): # ON COMPARE LES ELEMENTS DE LA LIGNE REDUITE ENTRE EUX\n",
    "                \n",
    "                a = l2[i2-1] \n",
    "                b = l2[i2]\n",
    "                if(b==a):\n",
    "                    safe=False\n",
    "                elif abs(b-a)>3:\n",
    "                    safe=False\n",
    "                \n",
    "                if b > a :\n",
    "                    sortedList.sort()\n",
    "                elif a>b:\n",
    "                    sortedList.sort(reverse=True)\n",
    "\n",
    "            if sortedList != l2:\n",
    "                safe=False\n",
    "\n",
    "            if(safe): # SI ON A PASSE TOUS LES TESTS LE REPORT EST SAFE ET DONC ON PEUT SORTIR DES TESTS COMPLEMENTAIRES\n",
    "                safeReports+=1\n",
    "                break\n",
    "\n",
    "print(safeReports)"
   ]
  },
  {
   "cell_type": "code",
   "execution_count": null,
   "metadata": {},
   "outputs": [],
   "source": []
  }
 ],
 "metadata": {
  "kernelspec": {
   "display_name": "base",
   "language": "python",
   "name": "python3"
  },
  "language_info": {
   "codemirror_mode": {
    "name": "ipython",
    "version": 3
   },
   "file_extension": ".py",
   "mimetype": "text/x-python",
   "name": "python",
   "nbconvert_exporter": "python",
   "pygments_lexer": "ipython3",
   "version": "3.12.4"
  }
 },
 "nbformat": 4,
 "nbformat_minor": 2
}
