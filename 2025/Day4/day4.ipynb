{
 "cells": [
  {
   "cell_type": "code",
   "execution_count": 1,
   "metadata": {},
   "outputs": [],
   "source": [
    "import re\n",
    "import numpy as np\n",
    "file_path = 'source.txt'  # SAMX : 215 / XMAS : 217  / HORIZONTAL\n",
    "\n",
    "with open(file_path, 'r') as file:\n",
    "    lines = file.readlines()\n",
    "\n",
    "for k,l in enumerate(lines):\n",
    "    lines[k]=l.strip('\\n')\n",
    "\n",
    "full_text = \"\".join(lines)\n",
    "\n",
    "sample =   [\"MMMSXXMASM\",   # 1x\n",
    "            \"MSAMXMSMSA\",   # 1x (r)\n",
    "            \"AMXSXMAAMM\",   #\n",
    "            \"MSAMASMSMX\",   #\n",
    "            \"XMASAMXAMM\",   # 2x (a+r)              18 EN TOUT AVEC LES DIAGONALES\n",
    "            \"XXAMMXXAMA\",   #\n",
    "            \"SMSMSASXSS\",   # \n",
    "            \"SAXAMASAAA\",   #\n",
    "            \"MAMMMXMMMM\",   #\n",
    "            \"MXMXAXMASX\"]   # 1x \n",
    "    #        ------1--2\n",
    "\n",
    "sample_text = \"\".join(sample)"
   ]
  },
  {
   "cell_type": "markdown",
   "metadata": {},
   "source": [
    "ON FAIT UN ARRAY AVEC TOUTES LES LETTRES, DE TAILLE CORRECTE"
   ]
  },
  {
   "cell_type": "code",
   "execution_count": 35,
   "metadata": {},
   "outputs": [],
   "source": [
    "h = len(lines[0])\n",
    "v = len(lines)\n",
    "\n",
    "hs= len(sample[0])\n",
    "vs= len(sample)\n",
    "\n",
    "#np_full_table = np.array(list(sample_text)).reshape(vs,hs)  # np_sample_table\n",
    "np_full_table = np.array(list(full_text)).reshape(v,h)"
   ]
  },
  {
   "cell_type": "markdown",
   "metadata": {},
   "source": [
    "LIGNES HORIZONTALES"
   ]
  },
  {
   "cell_type": "code",
   "execution_count": 4,
   "metadata": {},
   "outputs": [
    {
     "name": "stdout",
     "output_type": "stream",
     "text": [
      "5\n"
     ]
    }
   ],
   "source": [
    "x = []\n",
    "for ligne in np_full_table:\n",
    "    x.append(re.findall(r\"XMAS\",\"\".join(ligne)))\n",
    "    x.append(re.findall(r\"SAMX\",\"\".join(ligne)))\n",
    "\n",
    "# MOTS TROUVES SO FAR\n",
    "count=0\n",
    "for i in x:\n",
    "    if len(i)>0:\n",
    "        count+=len(i)\n",
    "\n",
    "print(count)"
   ]
  },
  {
   "cell_type": "markdown",
   "metadata": {},
   "source": [
    "DIAGONALES DESCENDANTES"
   ]
  },
  {
   "cell_type": "code",
   "execution_count": 5,
   "metadata": {},
   "outputs": [
    {
     "name": "stdout",
     "output_type": "stream",
     "text": [
      "10\n"
     ]
    }
   ],
   "source": [
    "for a in range(-h,h,1):\n",
    "    diag= np.diag(np_full_table, k=a)\n",
    "    txt = \"\".join(diag)\n",
    "    x.append(re.findall(r\"XMAS\",txt))\n",
    "    x.append(re.findall(r\"SAMX\",txt))\n",
    "\n",
    "# MOTS TROUVES SO FAR\n",
    "count=0\n",
    "for i in x:\n",
    "    if len(i)>0:\n",
    "        count+=len(i)\n",
    "\n",
    "print(count)"
   ]
  },
  {
   "cell_type": "markdown",
   "metadata": {},
   "source": [
    "ON TOURNE LA TABLE ET ON RECOMMENCE"
   ]
  },
  {
   "cell_type": "code",
   "execution_count": 6,
   "metadata": {},
   "outputs": [],
   "source": [
    "np_full_table=np.rot90(np_full_table)"
   ]
  },
  {
   "cell_type": "code",
   "execution_count": 7,
   "metadata": {},
   "outputs": [
    {
     "name": "stdout",
     "output_type": "stream",
     "text": [
      "13\n"
     ]
    }
   ],
   "source": [
    "for ligne in np_full_table:\n",
    "    x.append(re.findall(r\"XMAS\",\"\".join(ligne)))\n",
    "    x.append(re.findall(r\"SAMX\",\"\".join(ligne)))\n",
    "\n",
    "# MOTS TROUVES SO FAR\n",
    "count=0\n",
    "for i in x:\n",
    "    if len(i)>0:\n",
    "        count+=len(i)\n",
    "\n",
    "print(count)"
   ]
  },
  {
   "cell_type": "markdown",
   "metadata": {},
   "source": [
    "DIAGONALES DESCENDANTES"
   ]
  },
  {
   "cell_type": "code",
   "execution_count": 8,
   "metadata": {},
   "outputs": [
    {
     "name": "stdout",
     "output_type": "stream",
     "text": [
      "18\n"
     ]
    }
   ],
   "source": [
    "for a in range(-v,v,1):\n",
    "    diag= np.diag(np_full_table, k=a)\n",
    "    txt = \"\".join(diag)\n",
    "    x.append(re.findall(r\"XMAS\",txt))\n",
    "    x.append(re.findall(r\"SAMX\",txt))\n",
    "\n",
    "# MOTS TROUVES SO FAR\n",
    "count=0\n",
    "for i in x:\n",
    "    if len(i)>0:\n",
    "        count+=len(i)\n",
    "\n",
    "print(count)"
   ]
  },
  {
   "cell_type": "code",
   "execution_count": 9,
   "metadata": {},
   "outputs": [
    {
     "data": {
      "text/plain": [
       "18"
      ]
     },
     "execution_count": 9,
     "metadata": {},
     "output_type": "execute_result"
    }
   ],
   "source": [
    "count=0\n",
    "for i in x:\n",
    "    if len(i)>0:\n",
    "        count+=len(i)\n",
    "count\n"
   ]
  },
  {
   "cell_type": "markdown",
   "metadata": {},
   "source": [
    "# DEUXIEME PARTIE"
   ]
  },
  {
   "cell_type": "code",
   "execution_count": 38,
   "metadata": {},
   "outputs": [
    {
     "name": "stdout",
     "output_type": "stream",
     "text": [
      "1921\n"
     ]
    }
   ],
   "source": [
    "\n",
    "# V MAX ET H MAX, LES INDEX A NE PAS DEPASSER\n",
    "\n",
    "v= len(np_full_table)-1 \n",
    "h= len(np_full_table[0])-1\n",
    "\n",
    "nombreX = 0\n",
    "for i,ligne in enumerate(np_full_table):\n",
    "    #print(i)\n",
    "    for k,lettre in enumerate(ligne):\n",
    "        if(lettre=='A'):                  # ON A UN A, ON REGARDE DONC LES DEUX DIAG (UpLeft, DownRight et UpRight, DownLeft)\n",
    "           \n",
    "            # ON DOIT PAS SORTIR DU TABLEAU\n",
    "            if(i>0) &(i<v) & (k>0) &(k<h) : \n",
    "                lettreUL = np_full_table[i-1,k-1]\n",
    "                lettreDR = np_full_table[i+1,k+1]\n",
    "                diag1 = f\"{lettreUL}A{lettreDR}\"\n",
    "                #print(diag1)\n",
    "            \n",
    "                lettreUR=np_full_table[i-1,k+1]\n",
    "                lettreDL=np_full_table[i+1,k-1]\n",
    "                diag2 = f\"{lettreDL}A{lettreUR}\"\n",
    "                #print(diag2)\n",
    "\n",
    "                # SI LES DEUX DIAG SONT SAM OU MAS, VICTOIRE\n",
    "                if (diag1=='SAM' or diag1=='MAS') & (diag2=='SAM' or diag2=='MAS'):\n",
    "                    nombreX+=1\n",
    "print(nombreX)"
   ]
  }
 ],
 "metadata": {
  "kernelspec": {
   "display_name": "base",
   "language": "python",
   "name": "python3"
  },
  "language_info": {
   "codemirror_mode": {
    "name": "ipython",
    "version": 3
   },
   "file_extension": ".py",
   "mimetype": "text/x-python",
   "name": "python",
   "nbconvert_exporter": "python",
   "pygments_lexer": "ipython3",
   "version": "3.12.4"
  }
 },
 "nbformat": 4,
 "nbformat_minor": 2
}
