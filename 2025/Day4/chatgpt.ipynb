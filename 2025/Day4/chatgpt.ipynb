{
 "cells": [
  {
   "cell_type": "code",
   "execution_count": 1,
   "metadata": {},
   "outputs": [
    {
     "ename": "NameError",
     "evalue": "name 'dri' is not defined",
     "output_type": "error",
     "traceback": [
      "\u001b[1;31m---------------------------------------------------------------------------\u001b[0m",
      "\u001b[1;31mNameError\u001b[0m                                 Traceback (most recent call last)",
      "Cell \u001b[1;32mIn[1], line 46\u001b[0m\n\u001b[0;32m     43\u001b[0m                     total \u001b[38;5;241m+\u001b[39m\u001b[38;5;241m=\u001b[39m \u001b[38;5;241m1\u001b[39m\n\u001b[0;32m     44\u001b[0m     \u001b[38;5;28;01mreturn\u001b[39;00m total\n\u001b[1;32m---> 46\u001b[0m count \u001b[38;5;241m=\u001b[39m \u001b[43mcount_occurrences\u001b[49m\u001b[43m(\u001b[49m\u001b[43m)\u001b[49m\n\u001b[0;32m     47\u001b[0m \u001b[38;5;28mprint\u001b[39m(count)\n",
      "Cell \u001b[1;32mIn[1], line 40\u001b[0m, in \u001b[0;36mcount_occurrences\u001b[1;34m()\u001b[0m\n\u001b[0;32m     37\u001b[0m             \u001b[38;5;28;01mreturn\u001b[39;00m \u001b[38;5;28;01mFalse\u001b[39;00m\n\u001b[0;32m     38\u001b[0m     \u001b[38;5;28;01mreturn\u001b[39;00m \u001b[38;5;28;01mTrue\u001b[39;00m\n\u001b[1;32m---> 40\u001b[0m \u001b[38;5;28;01mif\u001b[39;00m \u001b[43mcheck\u001b[49m\u001b[43m(\u001b[49m\u001b[43mword\u001b[49m\u001b[43m)\u001b[49m:\n\u001b[0;32m     41\u001b[0m     total \u001b[38;5;241m+\u001b[39m\u001b[38;5;241m=\u001b[39m \u001b[38;5;241m1\u001b[39m\n\u001b[0;32m     42\u001b[0m \u001b[38;5;28;01mif\u001b[39;00m check(rev_word):\n",
      "Cell \u001b[1;32mIn[1], line 34\u001b[0m, in \u001b[0;36mcount_occurrences.<locals>.check\u001b[1;34m(w)\u001b[0m\n\u001b[0;32m     32\u001b[0m \u001b[38;5;28;01mdef\u001b[39;00m \u001b[38;5;21mcheck\u001b[39m(w):\n\u001b[0;32m     33\u001b[0m     \u001b[38;5;28;01mfor\u001b[39;00m i, ch \u001b[38;5;129;01min\u001b[39;00m \u001b[38;5;28menumerate\u001b[39m(w):\n\u001b[1;32m---> 34\u001b[0m         nr \u001b[38;5;241m=\u001b[39m r \u001b[38;5;241m+\u001b[39m \u001b[43mdri\u001b[49m\n\u001b[0;32m     35\u001b[0m         nc \u001b[38;5;241m=\u001b[39m c \u001b[38;5;241m+\u001b[39m dci\n\u001b[0;32m     36\u001b[0m         \u001b[38;5;28;01mif\u001b[39;00m \u001b[38;5;129;01mnot\u001b[39;00m in_bounds(nr, nc) \u001b[38;5;129;01mor\u001b[39;00m grid[nr][nc] \u001b[38;5;241m!=\u001b[39m ch:\n",
      "\u001b[1;31mNameError\u001b[0m: name 'dri' is not defined"
     ]
    }
   ],
   "source": [
    "file_path = 'source.txt'  # SAMX : 215 / XMAS : 217  / HORIZONTAL\n",
    "\n",
    "with open(file_path, 'r') as file:\n",
    "    lines = file.readlines()\n",
    "grid = [list(line) for line in lines]\n",
    "rows = len(grid)\n",
    "cols = len(grid[0])\n",
    "\n",
    "word = \"XMAS\"\n",
    "rev_word = word[::-1]\n",
    "\n",
    "def in_bounds(r, c):\n",
    "    return 0 <= r < rows and 0 <= c < cols\n",
    "\n",
    "def count_occurrences():\n",
    "    directions = [\n",
    "        (0,1),   # right\n",
    "        (0,-1),  # left\n",
    "        (1,0),   # down\n",
    "        (-1,0),  # up\n",
    "        (1,1),   # down-right diagonal\n",
    "        (1,-1),  # down-left diagonal\n",
    "        (-1,1),  # up-right diagonal\n",
    "        (-1,-1)  # up-left diagonal\n",
    "    ]\n",
    "\n",
    "    total = 0\n",
    "    for r in range(rows):\n",
    "        for c in range(cols):\n",
    "            for dr, dc in directions:\n",
    "                # Check if we can read the full length of \"XMAS\"\n",
    "                def check(w):\n",
    "                    for i, ch in enumerate(w):\n",
    "                        nr = r + dri\n",
    "                        nc = c + dci\n",
    "                        if not in_bounds(nr, nc) or grid[nr][nc] != ch:\n",
    "                            return False\n",
    "                    return True\n",
    "\n",
    "                if check(word):\n",
    "                    total += 1\n",
    "                if check(rev_word):\n",
    "                    total += 1\n",
    "    return total\n",
    "\n",
    "count = count_occurrences()\n",
    "print(count)"
   ]
  }
 ],
 "metadata": {
  "kernelspec": {
   "display_name": "base",
   "language": "python",
   "name": "python3"
  },
  "language_info": {
   "codemirror_mode": {
    "name": "ipython",
    "version": 3
   },
   "file_extension": ".py",
   "mimetype": "text/x-python",
   "name": "python",
   "nbconvert_exporter": "python",
   "pygments_lexer": "ipython3",
   "version": "3.12.4"
  }
 },
 "nbformat": 4,
 "nbformat_minor": 2
}
