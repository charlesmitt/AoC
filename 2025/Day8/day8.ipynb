{
 "cells": [
  {
   "cell_type": "code",
   "execution_count": 420,
   "metadata": {},
   "outputs": [],
   "source": [
    "\n",
    "import numpy as np\n",
    "import copy \n",
    "\n",
    "file_path = 'source.txt'  # 369 < PART 1\n",
    "                          # 1169 < PART 2\n",
    "\n",
    "with open(file_path, 'r') as file:\n",
    "    lines = file.readlines()\n",
    "\n",
    "full = []\n",
    "for k,l in enumerate(lines):\n",
    "    full.append(l.strip(\"\\n\"))\n",
    "\n",
    "full_text= \"\".join(full)\n",
    "\n",
    "sample =   [\"............\",\n",
    "            \"........0...\",\n",
    "            \".....0......\",\n",
    "            \".......0....\",\n",
    "            \"....0.......\",\n",
    "            \"......A.....\",\n",
    "            \"............\",\n",
    "            \"............\",\n",
    "            \"........A...\",\n",
    "            \".........A..\",\n",
    "            \"............\",\n",
    "            \"............\"]\n",
    "\n",
    "sample_text = \"\".join(sample)\n",
    "\n",
    "# UTILISATION DU FICHIER AU LIEU DU SAMPLE\n",
    "sample=full\n",
    "sample_text=full_text\n",
    "\n",
    "\n",
    "array = np.array(list(sample_text)).reshape(len(sample),len(sample[0]))\n",
    "antennes = copy.deepcopy(array)"
   ]
  },
  {
   "cell_type": "code",
   "execution_count": 421,
   "metadata": {},
   "outputs": [
    {
     "name": "stdout",
     "output_type": "stream",
     "text": [
      "['0', '1', '2', '3', '4', '5', '6', '7', '8', '9', 'A', 'B', 'C', 'D', 'E', 'F', 'I', 'J', 'K', 'L', 'M', 'N', 'O', 'P', 'Q', 'R', 'S', 'V', 'W', 'X', 'Y', 'Z', 'a', 'b', 'c', 'd', 'e', 'f', 'i', 'j', 'k', 'l', 'm', 'n', 'o', 'p', 'q', 'r', 's', 'v', 'w', 'x', 'y', 'z']\n"
     ]
    }
   ],
   "source": [
    "liste_car = list(np.unique(array))\n",
    "liste_car.pop(liste_car.index(\".\"))\n",
    "print(liste_car)\n",
    "\n",
    "# ON CREE LES LISTE DES POSITIONS\n",
    "liste_pos = []\n",
    "for c in liste_car:\n",
    "    x = []\n",
    "    pos = []\n",
    "    x.append(np.where(array == c))\n",
    "    for h,v in zip(x[0][0],x[0][1]):\n",
    "        pos.append([h,v])\n",
    "    liste_pos.append([c,pos])\n",
    "#print(liste_pos)"
   ]
  },
  {
   "cell_type": "code",
   "execution_count": 422,
   "metadata": {},
   "outputs": [],
   "source": [
    "def distance(a,b):\n",
    "    return [int(b[0])-int(a[0]),int(b[1])-int(a[1])]\n",
    "\n",
    "def mirror(a,dist):\n",
    "    return [[int(a[0])+int(dist[0]),int(a[1])+int(dist[1])]]"
   ]
  },
  {
   "cell_type": "markdown",
   "metadata": {},
   "source": [
    "PART 1"
   ]
  },
  {
   "cell_type": "code",
   "execution_count": 423,
   "metadata": {},
   "outputs": [
    {
     "name": "stdout",
     "output_type": "stream",
     "text": [
      "369\n"
     ]
    }
   ],
   "source": [
    "\n",
    "# pour chaque lettre [ligne de ligne_pos], on place tous les mirroirs\n",
    "for l in liste_pos:\n",
    "    car = l[0][0]\n",
    "    for ii, vi in enumerate(l[1]):\n",
    "        p1 = vi     \n",
    "        \n",
    "        for ik,vk in enumerate(l[1][ii+1:]):\n",
    "            p2 = vk\n",
    "            pos_m = mirror(p2,distance(p1,p2))\n",
    "\n",
    "            if (pos_m[0][0]<len(array)) & (pos_m[0][0]>=0) & (pos_m[0][1]<len(array)) & (pos_m[0][1]>=0) :\n",
    "                antennes[pos_m[0][0]][pos_m[0][1]]=\"#\"\n",
    "\n",
    "            # DE L'AUTRE COTE\n",
    "            pos_m = mirror(p1,distance(p2,p1))\n",
    "            if (pos_m[0][0]<len(array)) & (pos_m[0][0]>=0) & (pos_m[0][1]<len(array)) & (pos_m[0][1]>=0):\n",
    "                antennes[pos_m[0][0]][pos_m[0][1]]=\"#\"\n",
    "            \n",
    "\n",
    "print(np.count_nonzero(antennes ==\"#\"))"
   ]
  },
  {
   "cell_type": "markdown",
   "metadata": {},
   "source": [
    "PART 2"
   ]
  },
  {
   "cell_type": "code",
   "execution_count": 426,
   "metadata": {},
   "outputs": [
    {
     "name": "stdout",
     "output_type": "stream",
     "text": [
      "1169\n"
     ]
    }
   ],
   "source": [
    "# ON VIDE LE TABLEAU \n",
    "antennes = copy.deepcopy(array)\n",
    "\n",
    "# pour chaque lettre [ligne de ligne_pos], on place tous les mirroirs\n",
    "for l in liste_pos:\n",
    "    #print(l)\n",
    "    car = l[0][0]\n",
    "    #print(car)\n",
    "    for ii, vi in enumerate(l[1]):        \n",
    "        \n",
    "        for ik,vk in enumerate(l[1][ii+1:]):\n",
    "\n",
    "            #DANS UN SENS\n",
    "            p1 = vi.copy()\n",
    "            p2 = vk.copy()\n",
    "            pos_m = mirror(p2,distance(p1,p2))\n",
    "\n",
    "            while(pos_m[0][0]<len(array)) & (pos_m[0][0]>=0) & (pos_m[0][1]<len(array)) & (pos_m[0][1]>=0) :\n",
    "                if (pos_m[0][0]<len(array)) & (pos_m[0][0]>=0) & (pos_m[0][1]<len(array)) & (pos_m[0][1]>=0) :\n",
    "                    antennes[pos_m[0][0]][pos_m[0][1]]=\"#\"\n",
    "                temp = pos_m[0]\n",
    "                p1 = p2\n",
    "                p2 = temp\n",
    "                pos_m = mirror(p2,distance(p1,p2))\n",
    "            \n",
    "            # DANS L'AUTRE SENS\n",
    "            p2= vk.copy()\n",
    "            p1 = vi.copy()\n",
    "            pos_m = mirror(p1,distance(p2,p1))\n",
    "            while(pos_m[0][0]<len(array)) & (pos_m[0][0]>=0) & (pos_m[0][1]<len(array)) & (pos_m[0][1]>=0) :\n",
    "                if (pos_m[0][0]<len(array)) & (pos_m[0][0]>=0) & (pos_m[0][1]<len(array)) & (pos_m[0][1]>=0) :\n",
    "                    antennes[pos_m[0][0]][pos_m[0][1]]=\"#\"\n",
    "                temp = pos_m[0]\n",
    "                p2 = p1\n",
    "                p1 = temp\n",
    "                pos_m = mirror(p1,distance(p2,p1))\n",
    "\n",
    "print(np.count_nonzero(antennes !=\".\"))"
   ]
  }
 ],
 "metadata": {
  "kernelspec": {
   "display_name": "base",
   "language": "python",
   "name": "python3"
  },
  "language_info": {
   "codemirror_mode": {
    "name": "ipython",
    "version": 3
   },
   "file_extension": ".py",
   "mimetype": "text/x-python",
   "name": "python",
   "nbconvert_exporter": "python",
   "pygments_lexer": "ipython3",
   "version": "3.12.4"
  }
 },
 "nbformat": 4,
 "nbformat_minor": 2
}
