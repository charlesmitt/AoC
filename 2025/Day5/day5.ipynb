{
 "cells": [
  {
   "cell_type": "code",
   "execution_count": 112,
   "metadata": {},
   "outputs": [],
   "source": [
    "file_path = 'source.txt'  \n",
    "\n",
    "with open(file_path, 'r') as file:\n",
    "    lines = file.readlines()\n",
    "\n",
    "full_rules = []\n",
    "full_pages = []\n",
    "for k,l in enumerate(lines):\n",
    "    if(\"|\" in l):\n",
    "        full_rules.append(l.strip(\"\\n\").split(\"|\"))\n",
    "    if (\",\" in l):\n",
    "        full_pages.append(l.strip(\"\\n\").split(\",\"))\n",
    "\n",
    "sample=[\"47|53\",\"97|13\",\"97|61\",\"97|47\",\"75|29\",\"61|13\",\"75|53\",\"29|13\",\"97|29\",\"53|29\",\"61|53\",\n",
    "\"97|53\",\"61|29\",\"47|13\",\"75|47\",\"97|75\",\"47|61\",\"75|61\",\"47|29\",\"75|13\",\"53|13\",\"\\n\",\n",
    "\"75,47,61,53,29\",\"97,61,53,29,13\",\"75,29,13\",\"75,97,47,61,53\",\"61,13,29\",\"97,13,75,29,47\"]\n",
    "\n",
    "sample_rules = []\n",
    "sample_pages = []\n",
    "\n",
    "for k,l in enumerate(sample):\n",
    "    if( \"|\" in l):\n",
    "        sample_rules.append(l.strip(\"\\n\").split(\"|\"))\n",
    "    if (\",\" in l):\n",
    "        sample_pages.append(l.strip(\"\\n\").split(\",\"))\n",
    "\n",
    "# ON UTILISE LE FICHIER ET PAS LE SAMPLE\n",
    "sample_pages=full_pages\n",
    "sample_rules=full_rules"
   ]
  },
  {
   "cell_type": "code",
   "execution_count": 113,
   "metadata": {},
   "outputs": [],
   "source": [
    "valid_pages=[]\n",
    "invalid_pages = []\n",
    "for p in sample_pages:\n",
    "    nbReglesTrouvees = 0\n",
    "    fail = False\n",
    "    for i,e in enumerate(p):\n",
    "        for r in p[i+1:]:\n",
    "            regleTrouvee = False\n",
    "            if [e,r] not in sample_rules:\n",
    "                fail = True\n",
    "                break\n",
    "    if(not fail):\n",
    "        valid_pages.append(p)\n",
    "    else:\n",
    "        invalid_pages.append(p)"
   ]
  },
  {
   "cell_type": "code",
   "execution_count": 114,
   "metadata": {},
   "outputs": [
    {
     "name": "stdout",
     "output_type": "stream",
     "text": [
      "5091\n"
     ]
    }
   ],
   "source": [
    "sum=0\n",
    "for i in valid_pages:\n",
    "    center = (len(i)-1)//2\n",
    "    sum+=int(i[center])\n",
    "\n",
    "print(sum)"
   ]
  },
  {
   "cell_type": "markdown",
   "metadata": {},
   "source": [
    "PARTIE 2"
   ]
  },
  {
   "cell_type": "code",
   "execution_count": 115,
   "metadata": {},
   "outputs": [],
   "source": [
    "for p in invalid_pages:\n",
    "    fail = True\n",
    "    while(fail):  # TANT QU'ON A DES ERREURS ON RECOMMENCE\n",
    "        fail=False\n",
    "        for i,e in enumerate(p):        \n",
    "            i2=i+1\n",
    "            for r in (p[i+1:]):\n",
    "                if [e,r] in sample_rules:\n",
    "                    e\n",
    "                    i2+=1\n",
    "                else:\n",
    "                    fail = True # ERREUR, ON PERMUTE LES DEUX VALEURS\n",
    "                    temp=e\n",
    "                    p[i]=r\n",
    "                    p[i2]=temp\n",
    "                    i2+=1\n",
    "                    break # IL FAUT TOUT REVERIFIER DEPUIS LE DEBUT DONC PAS BESOIN DE TERMINER LA PAGE\n",
    "                "
   ]
  },
  {
   "cell_type": "code",
   "execution_count": 116,
   "metadata": {},
   "outputs": [
    {
     "name": "stdout",
     "output_type": "stream",
     "text": [
      "4681\n"
     ]
    }
   ],
   "source": [
    "sum=0\n",
    "for i in invalid_pages:\n",
    "    center = (len(i)-1)//2\n",
    "    sum+=int(i[center])\n",
    "\n",
    "print(sum)"
   ]
  }
 ],
 "metadata": {
  "kernelspec": {
   "display_name": "base",
   "language": "python",
   "name": "python3"
  },
  "language_info": {
   "codemirror_mode": {
    "name": "ipython",
    "version": 3
   },
   "file_extension": ".py",
   "mimetype": "text/x-python",
   "name": "python",
   "nbconvert_exporter": "python",
   "pygments_lexer": "ipython3",
   "version": "3.12.4"
  }
 },
 "nbformat": 4,
 "nbformat_minor": 2
}
