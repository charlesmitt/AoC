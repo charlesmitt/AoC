{
 "cells": [
  {
   "cell_type": "markdown",
   "metadata": {},
   "source": [
    "PART 1"
   ]
  },
  {
   "cell_type": "code",
   "execution_count": 60,
   "metadata": {},
   "outputs": [
    {
     "name": "stdout",
     "output_type": "stream",
     "text": [
      "171183089\n"
     ]
    }
   ],
   "source": [
    "import re\n",
    "file_path = 'source.txt' # RESULTAT : 171183089\n",
    "\n",
    "with open(file_path, 'r') as file:\n",
    "    lines = file.readlines()\n",
    "    file_content = ''.join(lines)\n",
    "\n",
    "str = \"xmul(2,4)%&mul[3,7]!@^do_not_mul(5,5)+mul(32,64]then(mul(11,8)mul(8,5))\" # SAMPLE DE TEST, RESULTAT DOIT ETRE 161\n",
    "\n",
    "x = []\n",
    "x.append(re.findall(r\"mul\\(\\d*,\\d*\\)\",file_content))\n",
    "\n",
    "sum=0\n",
    "for i in x[0]:\n",
    "    i = i.strip(\"mul(\").strip(\")\")\n",
    "    a = i.split(',')\n",
    "    sum += (int(a[0])*int(a[1]))\n",
    "\n",
    "print(sum)"
   ]
  },
  {
   "cell_type": "markdown",
   "metadata": {},
   "source": [
    "PART 2"
   ]
  },
  {
   "cell_type": "code",
   "execution_count": 58,
   "metadata": {},
   "outputs": [
    {
     "name": "stdout",
     "output_type": "stream",
     "text": [
      "63866497\n"
     ]
    }
   ],
   "source": [
    "# RESULTAT : 63866497\n",
    "\n",
    "str = \"xmul(2,4)&mul[3,7]!^don't()_mul(5,5)+mul(32,64](mul(11,8)undo()?mul(8,5))\" # SAMPLE, RESULTAT DOIT ETRE 48\n",
    "\n",
    "x = []\n",
    "x.append(re.findall(r\"don't\\(\\)|do\\(\\)|mul\\(\\d*,\\d*\\)\",file_content))\n",
    "\n",
    "active=True\n",
    "sum=0\n",
    "for i in x[0]:\n",
    "    if \",\" in i and active:\n",
    "        i = i.strip(\"mul(\").strip(\")\")\n",
    "        a = i.split(',')\n",
    "        sum += (int(a[0])*int(a[1]))\n",
    "    elif i==\"don't()\":\n",
    "        active = False\n",
    "    elif i==\"do()\":\n",
    "        active=True\n",
    "print(sum)"
   ]
  },
  {
   "cell_type": "code",
   "execution_count": null,
   "metadata": {},
   "outputs": [],
   "source": []
  }
 ],
 "metadata": {
  "kernelspec": {
   "display_name": "base",
   "language": "python",
   "name": "python3"
  },
  "language_info": {
   "codemirror_mode": {
    "name": "ipython",
    "version": 3
   },
   "file_extension": ".py",
   "mimetype": "text/x-python",
   "name": "python",
   "nbconvert_exporter": "python",
   "pygments_lexer": "ipython3",
   "version": "3.12.4"
  }
 },
 "nbformat": 4,
 "nbformat_minor": 2
}
