{
 "cells": [
  {
   "cell_type": "markdown",
   "metadata": {},
   "source": [
    "PART 1"
   ]
  },
  {
   "cell_type": "code",
   "execution_count": 2,
   "metadata": {},
   "outputs": [],
   "source": [
    "import csv\n",
    "with open('day1.csv', 'r') as read_obj: # read csv file as a list of lists\n",
    "  csv_reader = csv.reader(read_obj) # pass the file object to reader() to get the reader object\n",
    "  list_of_rows = list(csv_reader) # Pass reader object to list() to get a list of lists\n",
    "\n",
    "a=[]\n",
    "b=[]\n",
    "c=[]\n",
    "for k,v in enumerate(list_of_rows):\n",
    "  a.append(int(v[0]))\n",
    "  b.append(int(v[1]))\n"
   ]
  },
  {
   "cell_type": "code",
   "execution_count": 3,
   "metadata": {},
   "outputs": [],
   "source": [
    "a.sort()\n",
    "b.sort()"
   ]
  },
  {
   "cell_type": "code",
   "execution_count": 4,
   "metadata": {},
   "outputs": [],
   "source": [
    "for ax,bx in zip(a,b):\n",
    "    c.append(abs(ax-bx))"
   ]
  },
  {
   "cell_type": "code",
   "execution_count": 6,
   "metadata": {},
   "outputs": [],
   "source": [
    "sum = 0\n",
    "for i in c:\n",
    "    sum+=i"
   ]
  },
  {
   "cell_type": "code",
   "execution_count": 7,
   "metadata": {},
   "outputs": [
    {
     "data": {
      "text/plain": [
       "3246517"
      ]
     },
     "execution_count": 7,
     "metadata": {},
     "output_type": "execute_result"
    }
   ],
   "source": [
    "sum"
   ]
  },
  {
   "cell_type": "markdown",
   "metadata": {},
   "source": [
    "PART 2"
   ]
  },
  {
   "cell_type": "code",
   "execution_count": 96,
   "metadata": {},
   "outputs": [],
   "source": [
    "aa= [3,4,2,1,3,3]\n",
    "bb= [4,3,5,3,9,3]"
   ]
  },
  {
   "cell_type": "code",
   "execution_count": 11,
   "metadata": {},
   "outputs": [],
   "source": [
    "s = []\n",
    "\n",
    "for i in a:\n",
    "    countA=0\n",
    "    for k in b:\n",
    "        if i==k:\n",
    "            countA+=1\n",
    "    s.append(i*countA)       "
   ]
  },
  {
   "cell_type": "code",
   "execution_count": 13,
   "metadata": {},
   "outputs": [
    {
     "name": "stdout",
     "output_type": "stream",
     "text": [
      "29379307\n"
     ]
    }
   ],
   "source": [
    "sum = 0\n",
    "for ss in s:\n",
    "    sum+=ss\n",
    "\n",
    "print(sum)"
   ]
  }
 ],
 "metadata": {
  "kernelspec": {
   "display_name": "base",
   "language": "python",
   "name": "python3"
  },
  "language_info": {
   "codemirror_mode": {
    "name": "ipython",
    "version": 3
   },
   "file_extension": ".py",
   "mimetype": "text/x-python",
   "name": "python",
   "nbconvert_exporter": "python",
   "pygments_lexer": "ipython3",
   "version": "3.12.4"
  }
 },
 "nbformat": 4,
 "nbformat_minor": 2
}
